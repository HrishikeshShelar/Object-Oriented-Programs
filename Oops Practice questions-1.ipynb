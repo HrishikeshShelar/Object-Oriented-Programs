{
 "cells": [
  {
   "cell_type": "code",
   "execution_count": 1,
   "id": "0981289f",
   "metadata": {},
   "outputs": [
    {
     "name": "stdout",
     "output_type": "stream",
     "text": [
      "the capacity of a Volvo is 60 passengers\n"
     ]
    }
   ],
   "source": [
    "class vehicle:\n",
    "    def __init__(self,name,max_speed):\n",
    "        self.name=name\n",
    "        self.max_speed=max_speed\n",
    "    def seating_capacity(self,capacity):\n",
    "        return f\"the capacity of a {self.name} is {capacity} passengers\"\n",
    "class bus(vehicle):\n",
    "    def seating_capacit(self,capacity=60):\n",
    "        return super().seating_capacity(capacity=60)\n",
    "    \n",
    "obj2=bus('Volvo',260)\n",
    "print(obj2.seating_capacit())\n"
   ]
  },
  {
   "cell_type": "code",
   "execution_count": 4,
   "id": "f93d23f9",
   "metadata": {},
   "outputs": [
    {
     "name": "stdout",
     "output_type": "stream",
     "text": [
      "Yellow TATA bus Speed: 110 mileage: 9\n",
      "Yellow Honda city Speed: 195 Mileage: 18\n"
     ]
    }
   ],
   "source": [
    "class vehicle:\n",
    "    colour='Yellow'\n",
    "    def __init__(self,name,max_speed,mileage):\n",
    "        self.name=name\n",
    "        self.max_speed=max_speed\n",
    "        self.mileage=mileage\n",
    "class Bus(vehicle):\n",
    "    pass\n",
    "class Car(vehicle):\n",
    "    pass\n",
    "School_bus=Bus('TATA bus',110,9)\n",
    "print(School_bus.colour,School_bus.name,\"Speed:\",School_bus.max_speed,\"mileage:\",School_bus.mileage)\n",
    "car=Car(\"Honda city\",195,18)\n",
    "print(car.colour,car.name,\"Speed:\",car.max_speed,\"Mileage:\",car.mileage)"
   ]
  },
  {
   "cell_type": "code",
   "execution_count": 5,
   "id": "2d06d44f",
   "metadata": {},
   "outputs": [
    {
     "name": "stdout",
     "output_type": "stream",
     "text": [
      "total bus fare is: 6600.0\n"
     ]
    }
   ],
   "source": [
    "class vehicle:\n",
    "    def __init__(self, name, milege, capacity):\n",
    "        self.name=name\n",
    "        self.milege=milege\n",
    "        self.capacity=capacity\n",
    "        \n",
    "    def fare(self):\n",
    "        return self.capacity*60\n",
    "    \n",
    "class bus(vehicle):\n",
    "    def fare(self):\n",
    "        amount=super().fare()\n",
    "        amount+=amount*10/100\n",
    "        return amount\n",
    "\n",
    "bus=bus(\"Volvo\",4,100)\n",
    "print(\"total bus fare is:\", bus.fare())"
   ]
  },
  {
   "cell_type": "code",
   "execution_count": null,
   "id": "612307f5",
   "metadata": {},
   "outputs": [],
   "source": []
  }
 ],
 "metadata": {
  "kernelspec": {
   "display_name": "Python 3 (ipykernel)",
   "language": "python",
   "name": "python3"
  },
  "language_info": {
   "codemirror_mode": {
    "name": "ipython",
    "version": 3
   },
   "file_extension": ".py",
   "mimetype": "text/x-python",
   "name": "python",
   "nbconvert_exporter": "python",
   "pygments_lexer": "ipython3",
   "version": "3.9.7"
  }
 },
 "nbformat": 4,
 "nbformat_minor": 5
}
